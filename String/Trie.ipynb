{
 "cells": [
  {
   "cell_type": "markdown",
   "metadata": {},
   "source": [
    "# Trie Tree\n",
    "\n",
    "LeetCode 208. Implement Trie \n",
    "(Prefix Tree)"
   ]
  },
  {
   "cell_type": "code",
   "execution_count": 2,
   "metadata": {},
   "outputs": [
    {
     "data": {
      "text/plain": [
       "(None, True, False, True)"
      ]
     },
     "execution_count": 2,
     "metadata": {},
     "output_type": "execute_result"
    }
   ],
   "source": [
    "class Trie:\n",
    "    def __init__(self) -> None:\n",
    "        self.alphabet = [None] * 26\n",
    "        self.is_end = False\n",
    "\n",
    "    def insert(self, word) -> None:\n",
    "        '''Insert a word into the Trie'''\n",
    "        # create nodes until the end of the input word\n",
    "\n",
    "        root = self\n",
    "\n",
    "        for c in word:\n",
    "            c = ord(c) - ord(\"a\")\n",
    "            if root.alphabet[c] is None:\n",
    "                root.alphabet[c] = Trie()\n",
    "            root = root.alphabet[c]\n",
    "        root.is_end = True\n",
    "\n",
    "    def search(self, word):\n",
    "        '''seach the word in this Trie'''\n",
    "        # find the a path for this word, make sure the end is True.\n",
    "        root = self\n",
    "        for c in word:\n",
    "            c = ord(c) - ord(\"a\")\n",
    "\n",
    "            if not root.alphabet[c]:\n",
    "                return False\n",
    "            root = root.alphabet[c]\n",
    "\n",
    "        return root.is_end\n",
    "\n",
    "    def startsWith(self, prefix):\n",
    "        \"\"\"Check if there is a previously inserted word has the prefix\"\"\"\n",
    "        # No matter the end is True\n",
    "        root = self\n",
    "        for c in prefix:\n",
    "            c = ord(c) - ord(\"a\")\n",
    "            if not root.alphabet[c]:\n",
    "                return False\n",
    "            root = root.alphabet[c]\n",
    "\n",
    "        return True\n",
    "\n",
    "\n",
    "# test\n",
    "trie = Trie()\n",
    "trie.insert(\"apple\"), trie.search(\n",
    "    \"apple\"), trie.search(\"app\"), trie.startsWith(\"app\")"
   ]
  },
  {
   "cell_type": "markdown",
   "metadata": {},
   "source": []
  }
 ],
 "metadata": {
  "kernelspec": {
   "display_name": "Python 3",
   "language": "python",
   "name": "python3"
  },
  "language_info": {
   "codemirror_mode": {
    "name": "ipython",
    "version": 3
   },
   "file_extension": ".py",
   "mimetype": "text/x-python",
   "name": "python",
   "nbconvert_exporter": "python",
   "pygments_lexer": "ipython3",
   "version": "3.10.12"
  }
 },
 "nbformat": 4,
 "nbformat_minor": 2
}
