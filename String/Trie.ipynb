{
 "cells": [
  {
   "cell_type": "markdown",
   "metadata": {},
   "source": [
    "# Trie Tree\n",
    "\n",
    "LeetCode 208. Implement Trie \n",
    "(Prefix Tree)"
   ]
  },
  {
   "cell_type": "code",
   "execution_count": null,
   "metadata": {},
   "outputs": [],
   "source": [
    "class Trie:\n",
    "    def __init__(self) -> None:\n",
    "        self.alphabet = [0] * 26\n",
    "        self.is_end = False\n",
    "\n",
    "    def insert(self, word) -> None:\n",
    "        '''Insert a word into the Trie'''\n",
    "        root = self\n",
    "\n",
    "        for c in word:\n",
    "\n",
    "\n",
    "    def search(self, word):\n",
    "        '''check if the word is in the Trie'''\n",
    "\n",
    "\n",
    "    def startsWith(self, prefix):\n",
    "        \"\"\"Check if there is a previously inserted word has the prefix\"\"\"\n"
   ]
  },
  {
   "cell_type": "markdown",
   "metadata": {},
   "source": []
  }
 ],
 "metadata": {
  "kernelspec": {
   "display_name": "Python 3",
   "language": "python",
   "name": "python3"
  },
  "language_info": {
   "name": "python",
   "version": "3.10.12"
  }
 },
 "nbformat": 4,
 "nbformat_minor": 2
}
