{
 "cells": [
  {
   "cell_type": "markdown",
   "metadata": {},
   "source": [
    "# Sorting \n",
    "\n",
    "- bubble sort\n",
    "- insertion sort\n",
    "- selection sort\n",
    "- heap sort with heapq lib\n",
    "- heap sort with self define heap\n",
    "- merge sort\n",
    "- quick sort"
   ]
  },
  {
   "cell_type": "markdown",
   "metadata": {},
   "source": [
    "### Generate a non-increasing ordered array. "
   ]
  },
  {
   "cell_type": "code",
   "execution_count": 1,
   "metadata": {},
   "outputs": [
    {
     "data": {
      "text/plain": [
       "[9, 8, 7, 6, 5, 4, 3, 2, 1, 0]"
      ]
     },
     "execution_count": 1,
     "metadata": {},
     "output_type": "execute_result"
    }
   ],
   "source": [
    "nums = list(range(9, -1, -1))\n",
    "nums"
   ]
  },
  {
   "cell_type": "markdown",
   "metadata": {},
   "source": [
    "## Bubble Sort\n",
    "Time complexity: O(n<sup>2</sup>)   \n",
    "Space complexity: O(1)\n",
    "Stable. "
   ]
  },
  {
   "cell_type": "code",
   "execution_count": 1,
   "metadata": {},
   "outputs": [
    {
     "data": {
      "text/plain": [
       "[0, 1, 2, 3, 4, 5, 6, 7, 8, 9]"
      ]
     },
     "execution_count": 1,
     "metadata": {},
     "output_type": "execute_result"
    }
   ],
   "source": [
    "def bubble_sort(nums):\n",
    "    n = len(nums) \n",
    "\n",
    "    for i in range(n):\n",
    "        for j in range(n - i - 1):\n",
    "            if nums[j + 1] < nums[j]:\n",
    "                nums[j + 1], nums[j] = nums[j], nums[j + 1]\n",
    "\n",
    "\n",
    "nums = list(range(9, -1, -1))\n",
    "\n",
    "bubble_sort(nums)\n",
    "nums"
   ]
  },
  {
   "cell_type": "markdown",
   "metadata": {},
   "source": [
    "## Insertion Sort\n",
    "Time Complexity: O(n<sup>2</sup>)  \n",
    "Space Complexity: O(1)  \n",
    "Non-stable. "
   ]
  },
  {
   "cell_type": "code",
   "execution_count": 20,
   "metadata": {},
   "outputs": [
    {
     "data": {
      "text/plain": [
       "[0, 1, 2, 3, 4, 5, 6, 7, 8, 9]"
      ]
     },
     "execution_count": 20,
     "metadata": {},
     "output_type": "execute_result"
    }
   ],
   "source": [
    "def insertion_sort(nums):\n",
    "    n = len(nums)\n",
    "\n",
    "    for i in range(1, n):\n",
    "        j = i - 1\n",
    "        key = nums[i]   # key is the value that we want to insert\n",
    "        while j >= 0 and key < nums[j]:\n",
    "            nums[j + 1] = nums[j]\n",
    "            j -= 1\n",
    "        nums[j + 1] = key\n",
    "\n",
    "\n",
    "nums = list(range(9, -1, -1))\n",
    "\n",
    "insertion_sort(nums)\n",
    "nums"
   ]
  },
  {
   "cell_type": "code",
   "execution_count": 21,
   "metadata": {},
   "outputs": [
    {
     "data": {
      "text/plain": [
       "[0, 1, 2, 3, 4, 5, 6, 7, 8, 9]"
      ]
     },
     "execution_count": 21,
     "metadata": {},
     "output_type": "execute_result"
    }
   ],
   "source": [
    "# selection sort\n",
    "nums = list(range(9, -1, -1))\n",
    "\n",
    "\n",
    "def selection_sort(nums):\n",
    "    n = len(nums)\n",
    "\n",
    "    for i in range(n):\n",
    "        min_idx = i\n",
    "        for j in range(i + 1, n):\n",
    "            if nums[j] < nums[min_idx]:\n",
    "                min_idx = j\n",
    "        nums[i], nums[min_idx] = nums[min_idx], nums[i]\n",
    "\n",
    "\n",
    "selection_sort(nums)\n",
    "nums"
   ]
  },
  {
   "cell_type": "markdown",
   "metadata": {},
   "source": [
    "## Heap Sort using built in libraries "
   ]
  },
  {
   "cell_type": "code",
   "execution_count": 23,
   "metadata": {},
   "outputs": [
    {
     "data": {
      "text/plain": [
       "[0, 1, 2, 3, 4, 5, 6, 7, 8, 9]"
      ]
     },
     "execution_count": 23,
     "metadata": {},
     "output_type": "execute_result"
    }
   ],
   "source": [
    "# heap sort\n",
    "\n",
    "import heapq\n",
    "\n",
    "nums = list(range(9, -1, -1))\n",
    "\n",
    "\n",
    "def heap_sort(nums):\n",
    "    heapq.heapify(nums)\n",
    "    return [heapq.heappop(nums) for _ in range(len(nums))]\n",
    "\n",
    "\n",
    "heap_sort(nums)"
   ]
  },
  {
   "cell_type": "markdown",
   "metadata": {},
   "source": [
    "## Heap Sort implementation "
   ]
  },
  {
   "cell_type": "code",
   "execution_count": 22,
   "metadata": {},
   "outputs": [
    {
     "data": {
      "text/plain": [
       "[0, 1, 2, 3, 4, 5, 6, 7, 8, 9]"
      ]
     },
     "execution_count": 22,
     "metadata": {},
     "output_type": "execute_result"
    }
   ],
   "source": [
    "# heap sort with self-defined heap\n",
    "nums = list(range(9, -1, -1))\n",
    "def heapiy(nums, i, n):\n",
    "    # from father node to leaf node, heapify the subtree\n",
    "    # i is father node index, n is the length of the heap\n",
    "    left = 2 * i + 1\n",
    "    right = 2 * i + 2\n",
    "    largest = i # largest is the index of the largest value among father, left and right\n",
    "\n",
    "    if left < n and nums[left] > nums[largest]: #\n",
    "        largest = left\n",
    "    if right < n and nums[right] > nums[largest]:\n",
    "        largest = right\n",
    "\n",
    "    if largest != i: # if largest is not the father node, swap father node and largest node\n",
    "        nums[largest], nums[i] = nums[i], nums[largest]\n",
    "        heapiy(nums, largest, n) # heapify the subtree\n",
    "\n",
    "\n",
    "def heap_sort(nums):\n",
    "    n = len(nums)\n",
    "\n",
    "    # in place build a heap\n",
    "    # for each father node, heapify the subtree, from bottom to top\n",
    "    # the leaf node is already a heap, so we start from the first father node\n",
    "    # O(n)\n",
    "    for i in range(n // 2 - 1, -1, -1): \n",
    "        heapiy(nums, i, n) \n",
    "\n",
    "    # for each node, swap the first node and the last node, and heapify the subtree\n",
    "    # move the largest value to the last position\n",
    "    for i in range(n - 1, 0, -1): \n",
    "        nums[0], nums[i] = nums[i], nums[0] #\n",
    "        heapiy(nums, 0, i)\n",
    "        \n",
    "    return nums\n",
    "\n",
    "heap_sort(nums)\n"
   ]
  },
  {
   "cell_type": "markdown",
   "metadata": {},
   "source": [
    "## Merge sort  \n",
    "Time complexity: O(n*log(n))  \n",
    "Space complexity: O(n)"
   ]
  },
  {
   "cell_type": "code",
   "execution_count": 9,
   "metadata": {},
   "outputs": [
    {
     "data": {
      "text/plain": [
       "[0, 1, 2, 3, 4, 5, 6, 7, 8, 9]"
      ]
     },
     "execution_count": 9,
     "metadata": {},
     "output_type": "execute_result"
    }
   ],
   "source": [
    "# merge sort\n",
    "nums = list(range(9, -1, -1))\n",
    "\n",
    "\n",
    "def merge(left, right):\n",
    "    i, j = 0, 0\n",
    "    res = []\n",
    "    while i < len(left) and j < len(right):\n",
    "        if left[i] <= right[j]:\n",
    "            res.append(left[i])\n",
    "            i += 1\n",
    "        else:\n",
    "            res.append(right[j])\n",
    "            j += 1\n",
    "\n",
    "    if i < len(left):\n",
    "        res += left[i:]\n",
    "    if j < len(right):\n",
    "        res += right[j:]\n",
    "    return res\n",
    "\n",
    "\n",
    "def merge_sort(nums):\n",
    "    if len(nums) == 1:\n",
    "        return nums\n",
    "    mid = len(nums) // 2\n",
    "    left = merge_sort(nums[:mid])\n",
    "    right = merge_sort(nums[mid:])\n",
    "    return merge(left, right)\n",
    "\n",
    "\n",
    "merge_sort(nums)"
   ]
  },
  {
   "cell_type": "markdown",
   "metadata": {},
   "source": [
    "## Quick sort\n",
    "Time Complexity: O(n*log(n))  \n",
    "Space Complexity: O(n)"
   ]
  },
  {
   "cell_type": "code",
   "execution_count": 13,
   "metadata": {},
   "outputs": [
    {
     "data": {
      "text/plain": [
       "[0, 1, 2, 3, 4, 5, 6, 7, 8, 9]"
      ]
     },
     "execution_count": 13,
     "metadata": {},
     "output_type": "execute_result"
    }
   ],
   "source": [
    "# quick sort\n",
    "nums = list(range(9, -1, -1))\n",
    "\n",
    "\n",
    "def quick_sort(nums):\n",
    "    if len(nums) <= 1:\n",
    "        return nums\n",
    "    pivot = nums[-1]\n",
    "    left = []\n",
    "    right = []\n",
    "    for num in nums[:-1]:\n",
    "        if num < pivot:\n",
    "            left.append(num)\n",
    "        else:\n",
    "            right.append(num)\n",
    "    return quick_sort(left) + [pivot] + quick_sort(right)\n",
    "\n",
    "\n",
    "quick_sort(nums)"
   ]
  }
 ],
 "metadata": {
  "kernelspec": {
   "display_name": "Python 3",
   "language": "python",
   "name": "python3"
  },
  "language_info": {
   "codemirror_mode": {
    "name": "ipython",
    "version": 3
   },
   "file_extension": ".py",
   "mimetype": "text/x-python",
   "name": "python",
   "nbconvert_exporter": "python",
   "pygments_lexer": "ipython3",
   "version": "3.10.12"
  }
 },
 "nbformat": 4,
 "nbformat_minor": 2
}
