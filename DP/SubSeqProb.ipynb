{
 "cells": [
  {
   "cell_type": "markdown",
   "metadata": {},
   "source": []
  },
  {
   "cell_type": "markdown",
   "metadata": {},
   "source": [
    "# Sub-Sequence Problem with Dynamic Programming "
   ]
  },
  {
   "cell_type": "markdown",
   "metadata": {},
   "source": [
    "Usually creating a 2D table, and calculate the current dp state from the adjencent previous states. "
   ]
  },
  {
   "cell_type": "markdown",
   "metadata": {},
   "source": [
    "- Problem Set:  \n",
    "    - 72. Edit Distance   \n",
    "    - 1143. Longest Common String   "
   ]
  },
  {
   "cell_type": "markdown",
   "metadata": {},
   "source": [
    "## 72.Edit Distance"
   ]
  },
  {
   "cell_type": "markdown",
   "metadata": {},
   "source": [
    "- replace: left up\n",
    "- deletion: left\n",
    "- insertion : up"
   ]
  },
  {
   "cell_type": "code",
   "execution_count": 2,
   "metadata": {},
   "outputs": [
    {
     "data": {
      "text/plain": [
       "3"
      ]
     },
     "execution_count": 2,
     "metadata": {},
     "output_type": "execute_result"
    }
   ],
   "source": [
    "def edit_distance(word1, word2):\n",
    "    l1 = len(word1)\n",
    "    l2 = len(word2)\n",
    "    dp = [[0] * (l2 + 1) for i in range(l1 + 1)]\n",
    "\n",
    "    for i in range(l1 + 1):  # start from an empty string\n",
    "        dp[i][0] = i\n",
    "\n",
    "    for j in range(l2 + 1):\n",
    "        dp[0][j] = j\n",
    "\n",
    "    for i in range(1, l1 + 1):\n",
    "        for j in range(1, l2 + 1):\n",
    "            if word1[i-1] == word2[j-1]:\n",
    "                dp[i][j] = dp[i-1][j-1] # replace \n",
    "            else:\n",
    "                dp[i][j] = min(dp[i-1][j], dp[i][j-1], dp[i-1][j-1]) + 1 # (deletion, insertion, replacement)\n",
    "\n",
    "    return dp[l1][l2]\n",
    "\n",
    "\n",
    "edit_distance(\"ros\", \"horse\")"
   ]
  },
  {
   "cell_type": "markdown",
   "metadata": {},
   "source": [
    "## 1143. Longest Common Subsequence"
   ]
  },
  {
   "cell_type": "markdown",
   "metadata": {},
   "source": [
    "Given two piece of text, return the longest common subsequence of them.  \n",
    "\n",
    "Create a 2D table, for comparing two strings.   \n",
    "dp[i][j] stands for a string \n",
    "Base case: one empty string comparing with another string. \n",
    "\n",
    "if text1[i] == text[j]: \n"
   ]
  },
  {
   "cell_type": "code",
   "execution_count": 5,
   "metadata": {},
   "outputs": [
    {
     "data": {
      "text/plain": [
       "3"
      ]
     },
     "execution_count": 5,
     "metadata": {},
     "output_type": "execute_result"
    }
   ],
   "source": [
    "def LCS(text1, text2):\n",
    "    l1 = len(text1)\n",
    "    l2 = len(text2)\n",
    "\n",
    "    dp = [[0] * (l2 + 1) for i in range(l1 + 1)]\n",
    "    # the first line and the first row stands for the empyt string comparing with another string \n",
    "\n",
    "    for i in range(1, l1 + 1):\n",
    "        for j in range(1, l2 + 1):\n",
    "            if text1[i-1] == text2[j-1]:\n",
    "                dp[i][j] = dp[i-1][j-1] + 1 # length added one from the provious \n",
    "\n",
    "            else:\n",
    "                dp[i][j] = max(dp[i-1][j], dp[i][j-1]) # current chars not equal, return the largest length from the previous\n",
    "\n",
    "                \n",
    "    return dp[l1][l2]\n",
    "\n",
    "\n",
    "LCS(\"abcde\", \"acec\")\n",
    "\n",
    "\n",
    "    "
   ]
  }
 ],
 "metadata": {
  "kernelspec": {
   "display_name": "Python 3",
   "language": "python",
   "name": "python3"
  },
  "language_info": {
   "codemirror_mode": {
    "name": "ipython",
    "version": 3
   },
   "file_extension": ".py",
   "mimetype": "text/x-python",
   "name": "python",
   "nbconvert_exporter": "python",
   "pygments_lexer": "ipython3",
   "version": "3.10.12"
  }
 },
 "nbformat": 4,
 "nbformat_minor": 2
}
