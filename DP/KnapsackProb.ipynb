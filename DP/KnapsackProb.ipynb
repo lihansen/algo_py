{
 "cells": [
  {
   "cell_type": "markdown",
   "metadata": {},
   "source": [
    "# Knapsack problem"
   ]
  },
  {
   "cell_type": "markdown",
   "metadata": {},
   "source": [
    ">Statement: \n",
    "Given a set of n items numbered from 1 up to n, \n",
    "each with a weight wi and a value vi, \n",
    "along with a maximum weight capacity W, \n",
    "maximize the sum of the values of the items in the knapsack \n",
    "so that the sum of the weights is less than or equal to \n",
    "the knapsack's capacity.\n",
    "1, 2, 3 ... n  \n",
    "w1, w2, w3 ... wn  \n",
    "v1, v2, v3 ... vn  \n",
    "capacity W  \n",
    "maximize the value V\n"
   ]
  },
  {
   "cell_type": "markdown",
   "metadata": {},
   "source": []
  },
  {
   "cell_type": "code",
   "execution_count": 1,
   "metadata": {},
   "outputs": [
    {
     "data": {
      "text/plain": [
       "9"
      ]
     },
     "execution_count": 1,
     "metadata": {},
     "output_type": "execute_result"
    }
   ],
   "source": [
    "def knapsack(weights, values, W):\n",
    "    n = len(weights) # num of items \n",
    "    \n",
    "    dp = [[0] * (W + 1) for i in range(n + 1)] # zero at the first line, stands for nothing choosed\n",
    "\n",
    "    \n",
    "    for i in range(n + 1):\n",
    "        for j in range(W + 1): # j weight so far\n",
    "            if weights[i - 1] <= j: # capacity still enough \n",
    "                dp[i][j] = max(dp[i-1][j], # i th item not choosed, remaining i-1 items value\n",
    "                               dp[i-1][j - weights[i-1]] + values[i - 1]) # choose i th item \n",
    "            else: # capacity not enough for i th item\n",
    "                dp[i][j] = dp[i-1][j] # do not choose, remains the i - 1 items value \n",
    "\n",
    "    return dp[n][W] \n",
    "\n",
    "knapsack([1, 3, 4, 5],[1, 4, 5, 7], 7) # assert == 9"
   ]
  }
 ],
 "metadata": {
  "kernelspec": {
   "display_name": "Python 3",
   "language": "python",
   "name": "python3"
  },
  "language_info": {
   "codemirror_mode": {
    "name": "ipython",
    "version": 3
   },
   "file_extension": ".py",
   "mimetype": "text/x-python",
   "name": "python",
   "nbconvert_exporter": "python",
   "pygments_lexer": "ipython3",
   "version": "3.10.12"
  }
 },
 "nbformat": 4,
 "nbformat_minor": 2
}
