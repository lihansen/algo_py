{
 "cells": [
  {
   "cell_type": "markdown",
   "metadata": {},
   "source": [
    "# Knapsack problem"
   ]
  },
  {
   "cell_type": "markdown",
   "metadata": {},
   "source": [
    ">Statement: \n",
    "Given a set of n items numbered from 1 up to n, \n",
    "each with a weight wi and a value vi, \n",
    "along with a maximum weight capacity W, \n",
    "maximize the sum of the values of the items in the knapsack \n",
    "so that the sum of the weights is less than or equal to \n",
    "the knapsack's capacity.\n",
    "1, 2, 3 ... n  \n",
    "w1, w2, w3 ... wn  \n",
    "v1, v2, v3 ... vn  \n",
    "capacity W  \n",
    "maximize the value V\n"
   ]
  },
  {
   "cell_type": "markdown",
   "metadata": {},
   "source": [
    "pesudo "
   ]
  },
  {
   "cell_type": "markdown",
   "metadata": {},
   "source": [
    "weights as row,  \n",
    "n items as column,   \n",
    "  \n",
    "for each current weights so far, check whether I can choose this item.   \n",
    "If i can choose this item,  "
   ]
  },
  {
   "cell_type": "markdown",
   "metadata": {},
   "source": []
  },
  {
   "cell_type": "code",
   "execution_count": 1,
   "metadata": {},
   "outputs": [
    {
     "data": {
      "text/plain": [
       "9"
      ]
     },
     "execution_count": 1,
     "metadata": {},
     "output_type": "execute_result"
    }
   ],
   "source": [
    "def knapsack(weights, values, W):\n",
    "    n = len(weights) # num of items \n",
    "    \n",
    "    dp = [[0] * (W + 1) for i in range(n + 1)] # zero at the first line, stands for nothing choosed\n",
    "\n",
    "    \n",
    "    for i in range(n + 1):\n",
    "        for j in range(W + 1): # j weight so far\n",
    "            if weights[i - 1] <= j: # capacity still enough \n",
    "                dp[i][j] = max(dp[i-1][j], # i th item not choosed, same value with the i - 1 items bag\n",
    "                               dp[i-1][j - weights[i-1]] + values[i - 1]) # choose ith item, put this item from a previous without this item weights, then add this item value. \n",
    "            else: # capacity not enough for i th item\n",
    "                dp[i][j] = dp[i-1][j] # do not choose, remains the i - 1 items value \n",
    "\n",
    "    return dp[n][W] \n",
    "\n",
    "knapsack([1, 3, 4, 5],[1, 4, 5, 7], 7) # assert == 9"
   ]
  },
  {
   "cell_type": "markdown",
   "metadata": {},
   "source": [
    "## 136. Word Break "
   ]
  },
  {
   "cell_type": "markdown",
   "metadata": {},
   "source": [
    "Basically, it is a typical knapsack problem.   \n",
    "Choose this word, if it is in the worddict.  (choose this item and put it into the bag, when there is still remaining volumn in this bag.)  \n",
    "(wordDict is something like the items gonna put into the bag.)  \n",
    "\n",
    "The previous chars from 0 to j should be a valid word. (It is similar to the the items choosen and assigned in our bag.)"
   ]
  },
  {
   "cell_type": "code",
   "execution_count": 6,
   "metadata": {},
   "outputs": [
    {
     "name": "stdout",
     "output_type": "stream",
     "text": [
      "[True, False, False, False, True, False, False, False, True]\n"
     ]
    },
    {
     "data": {
      "text/plain": [
       "True"
      ]
     },
     "execution_count": 6,
     "metadata": {},
     "output_type": "execute_result"
    }
   ],
   "source": [
    "def word_break(s, wordDict):\n",
    "    word_set = set(wordDict)\n",
    "    n = len(s)\n",
    "\n",
    "    dp = [False for i in range(n + 1)]\n",
    "    dp[0] = True\n",
    "    \n",
    "    for i in range(1, n + 1): # substring ends\n",
    "        for j in range(0, i): # sustring starts\n",
    "            if dp[j] and s[j:i] in word_set:\n",
    "                dp[i] = True\n",
    "                break \n",
    "    print(dp)\n",
    "    return dp[n]\n",
    "\n",
    "word_break(\"leetcode\", [\"leet\", \"code\"])"
   ]
  },
  {
   "cell_type": "markdown",
   "metadata": {},
   "source": []
  }
 ],
 "metadata": {
  "kernelspec": {
   "display_name": "Python 3",
   "language": "python",
   "name": "python3"
  },
  "language_info": {
   "codemirror_mode": {
    "name": "ipython",
    "version": 3
   },
   "file_extension": ".py",
   "mimetype": "text/x-python",
   "name": "python",
   "nbconvert_exporter": "python",
   "pygments_lexer": "ipython3",
   "version": "3.10.12"
  }
 },
 "nbformat": 4,
 "nbformat_minor": 2
}
