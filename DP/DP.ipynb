{
 "cells": [
  {
   "attachments": {},
   "cell_type": "markdown",
   "metadata": {},
   "source": [
    "# Dynamic Programming  \n",
    "\n",
    "- 322.coin change\n",
    "- 509.Fibonacci Num\n",
    "- knapsack\n",
    "- house_robber\n",
    "- 2Dim DP\n",
    "    - 72.Edit Distance \n",
    "    - 1143. Longest Common String\n",
    "\n"
   ]
  },
  {
   "cell_type": "markdown",
   "metadata": {},
   "source": [
    "### 322.coin change\n",
    "Given coins = [1, 2, 5], amount = 11, return fewest coins you need to make up the amount."
   ]
  },
  {
   "cell_type": "code",
   "execution_count": 2,
   "metadata": {},
   "outputs": [
    {
     "data": {
      "text/plain": [
       "3"
      ]
     },
     "execution_count": 2,
     "metadata": {},
     "output_type": "execute_result"
    }
   ],
   "source": [
    "def coin_change(coins, amount):\n",
    "    dp = [float(\"inf\") for i in range(amount + 1)]\n",
    "    dp[0] = 0\n",
    "    \n",
    "    for i in range(amount + 1):\n",
    "        for coin in coins:\n",
    "            if i - coin >= 0:\n",
    "                dp[i] = min(dp[i - coin] + 1, dp[i])\n",
    "\n",
    "    return dp[amount] if dp[amount] != float(\"inf\") else -1\n",
    "\n",
    "\n",
    "coin_change([1, 2, 5], 11)"
   ]
  },
  {
   "cell_type": "markdown",
   "metadata": {},
   "source": [
    "### 509. Fib\n",
    "F(0) = 0, F(1) = 1  \n",
    "F(n) = F(n - 1) + F(n - 2), for n > 1."
   ]
  },
  {
   "cell_type": "code",
   "execution_count": 3,
   "metadata": {},
   "outputs": [
    {
     "data": {
      "text/plain": [
       "3"
      ]
     },
     "execution_count": 3,
     "metadata": {},
     "output_type": "execute_result"
    }
   ],
   "source": [
    "def fib(n):\n",
    "    if n < 2:\n",
    "        return n\n",
    "    f0 = 0\n",
    "    f1 = 1\n",
    "    \n",
    "    f2 = f0 + f1\n",
    "    for i in range(2, n + 1):\n",
    "        f2 = f0 + f1\n",
    "        f0 = f1\n",
    "        f1 = f2\n",
    "    return f2\n",
    "\n",
    "fib(4)"
   ]
  },
  {
   "attachments": {},
   "cell_type": "markdown",
   "metadata": {},
   "source": [
    "## Knapsack problem\n",
    "\n",
    ">Statement: \n",
    "Given a set of n items numbered from 1 up to n, \n",
    "each with a weight wi and a value vi, \n",
    "along with a maximum weight capacity W, \n",
    "maximize the sum of the values of the items in the knapsack \n",
    "so that the sum of the weights is less than or equal to \n",
    "the knapsack's capacity.\n",
    "1, 2, 3 ... n  \n",
    "w1, w2, w3 ... wn  \n",
    "v1, v2, v3 ... vn  \n",
    "capacity W  \n",
    "maximize the value V\n"
   ]
  },
  {
   "cell_type": "code",
   "execution_count": 2,
   "metadata": {},
   "outputs": [
    {
     "data": {
      "text/plain": [
       "9"
      ]
     },
     "execution_count": 2,
     "metadata": {},
     "output_type": "execute_result"
    }
   ],
   "source": [
    "def knapsack(weights, values, W):\n",
    "    n = len(weights) # num of items \n",
    "    \n",
    "    dp = [[0] * (W + 1) for i in range(n + 1)] # zero at the first line, stands for nothing choosed\n",
    "\n",
    "    \n",
    "    for i in range(n + 1):\n",
    "        for j in range(W + 1): # j weight so far\n",
    "            if weights[i - 1] <= j: # capacity still enough \n",
    "                dp[i][j] = max(dp[i-1][j], # i th item not choosed, remaining i-1 items value\n",
    "                               dp[i-1][j - weights[i-1]] + values[i - 1]) # choose i th item \n",
    "            else: # capacity not enough for i th item\n",
    "                dp[i][j] = dp[i-1][j] # do not choose, remains the i - 1 items value \n",
    "\n",
    "    return dp[n][W] \n",
    "\n",
    "knapsack([1, 3, 4, 5],[1, 4, 5, 7], 7) # assert == 9"
   ]
  },
  {
   "cell_type": "markdown",
   "metadata": {},
   "source": [
    "## 2D DP"
   ]
  },
  {
   "cell_type": "markdown",
   "metadata": {},
   "source": [
    "### 72. Edit Distance"
   ]
  },
  {
   "cell_type": "code",
   "execution_count": null,
   "metadata": {},
   "outputs": [],
   "source": [
    "def edit_distance(word1, word2):\n",
    "    dp = [[0] * (len(word2) + 1) for i in range(len(word1) + 1)]\n",
    "\n",
    "    for i in range(len(word1) + 1):\n",
    "        dp[i][0] = i\n",
    "    \n",
    "    for j in range(len(word2) + 1):\n",
    "        dp[0][j] = j\n",
    "    \n",
    "    for i in range(1, len(word1) + 1):\n",
    "        for j in range(1, len(word2) + 1):\n",
    "\n",
    "            if word1[i - 1] == word2[j - 1]:"
   ]
  },
  {
   "cell_type": "markdown",
   "metadata": {},
   "source": [
    "### 1143. Longest Common Subsequence\n",
    "\n",
    "2D table for two words"
   ]
  },
  {
   "cell_type": "code",
   "execution_count": 4,
   "metadata": {},
   "outputs": [
    {
     "data": {
      "text/plain": [
       "3"
      ]
     },
     "execution_count": 4,
     "metadata": {},
     "output_type": "execute_result"
    }
   ],
   "source": [
    "def LCS(word1, word2):\n",
    "    \"\"\"return the longest common subsequence of two words\"\"\"\n",
    "    l1 = len(word1)\n",
    "    l2 = len(word2)\n",
    "\n",
    "    dp = [[0 for j in range(l2 + 1)] for i in range(l1 + 1)]\n",
    "\n",
    "    for i in range(1, l1 + 1):\n",
    "        for j in range(1, l2 + 1):\n",
    "            if word1[i-1] == word2[j-1]:\n",
    "                dp[i][j] = dp[i-1][j-1] + 1\n",
    "\n",
    "            else:\n",
    "                dp[i][j] = max(dp[i-1][j], dp[i][j-1])\n",
    "\n",
    "    return dp[l1][l2]\n",
    "\n",
    "LCS(\"abcde\", \"ace\")"
   ]
  },
  {
   "cell_type": "code",
   "execution_count": null,
   "metadata": {},
   "outputs": [],
   "source": []
  }
 ],
 "metadata": {
  "kernelspec": {
   "display_name": "Python 3",
   "language": "python",
   "name": "python3"
  },
  "language_info": {
   "codemirror_mode": {
    "name": "ipython",
    "version": 3
   },
   "file_extension": ".py",
   "mimetype": "text/x-python",
   "name": "python",
   "nbconvert_exporter": "python",
   "pygments_lexer": "ipython3",
   "version": "3.10.12"
  }
 },
 "nbformat": 4,
 "nbformat_minor": 2
}
