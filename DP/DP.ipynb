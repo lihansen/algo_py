{
 "cells": [
  {
   "attachments": {},
   "cell_type": "markdown",
   "metadata": {},
   "source": [
    "# Dynamic Programming  \n",
    "\n",
    "- 322.coin change\n",
    "- 509.Fibonacci Num\n",
    "- knapsack\n",
    "- house_robber\n",
    "- 2Dim DP\n",
    "    - 72.Edit Distance \n",
    "    - 1143. Longest Common String\n",
    "\n"
   ]
  },
  {
   "cell_type": "markdown",
   "metadata": {},
   "source": [
    "### 322.coin change\n",
    "Given coins = [1, 2, 5], amount = 11, return fewest coins you need to make up the amount."
   ]
  },
  {
   "cell_type": "code",
   "execution_count": 2,
   "metadata": {},
   "outputs": [
    {
     "data": {
      "text/plain": [
       "3"
      ]
     },
     "execution_count": 2,
     "metadata": {},
     "output_type": "execute_result"
    }
   ],
   "source": [
    "def coin_change(coins, amount):\n",
    "    dp = [float(\"inf\") for i in range(amount + 1)]\n",
    "    dp[0] = 0\n",
    "    \n",
    "    for i in range(amount + 1):\n",
    "        for coin in coins:\n",
    "            if i - coin >= 0:\n",
    "                dp[i] = min(dp[i - coin] + 1, dp[i])\n",
    "\n",
    "    return dp[amount] if dp[amount] != float(\"inf\") else -1\n",
    "\n",
    "\n",
    "coin_change([1, 2, 5], 11)"
   ]
  },
  {
   "cell_type": "markdown",
   "metadata": {},
   "source": [
    "### 509. Fib\n",
    "F(0) = 0, F(1) = 1  \n",
    "F(n) = F(n - 1) + F(n - 2), for n > 1."
   ]
  },
  {
   "cell_type": "code",
   "execution_count": 3,
   "metadata": {},
   "outputs": [
    {
     "data": {
      "text/plain": [
       "3"
      ]
     },
     "execution_count": 3,
     "metadata": {},
     "output_type": "execute_result"
    }
   ],
   "source": [
    "def fib(n):\n",
    "    if n < 2:\n",
    "        return n\n",
    "    f0 = 0\n",
    "    f1 = 1\n",
    "    \n",
    "    f2 = f0 + f1\n",
    "    for i in range(2, n + 1):\n",
    "        f2 = f0 + f1\n",
    "        f0 = f1\n",
    "        f1 = f2\n",
    "    return f2\n",
    "\n",
    "fib(4)"
   ]
  }
 ],
 "metadata": {
  "kernelspec": {
   "display_name": "Python 3",
   "language": "python",
   "name": "python3"
  },
  "language_info": {
   "codemirror_mode": {
    "name": "ipython",
    "version": 3
   },
   "file_extension": ".py",
   "mimetype": "text/x-python",
   "name": "python",
   "nbconvert_exporter": "python",
   "pygments_lexer": "ipython3",
   "version": "3.10.12"
  }
 },
 "nbformat": 4,
 "nbformat_minor": 2
}
