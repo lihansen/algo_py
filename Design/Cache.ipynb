{
 "cells": [
  {
   "cell_type": "markdown",
   "metadata": {},
   "source": [
    "# Cache"
   ]
  },
  {
   "cell_type": "markdown",
   "metadata": {},
   "source": [
    "## 146. LRU Cache "
   ]
  },
  {
   "cell_type": "markdown",
   "metadata": {},
   "source": [
    "Least Recently Used cache.   \n",
    "\n",
    "Get: get t\n"
   ]
  }
 ],
 "metadata": {
  "language_info": {
   "name": "python"
  }
 },
 "nbformat": 4,
 "nbformat_minor": 2
}
