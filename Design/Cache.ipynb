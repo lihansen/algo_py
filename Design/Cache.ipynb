{
 "cells": [
  {
   "cell_type": "markdown",
   "metadata": {},
   "source": [
    "# Cache"
   ]
  },
  {
   "cell_type": "markdown",
   "metadata": {},
   "source": [
    "## 146. LRU Cache "
   ]
  },
  {
   "cell_type": "markdown",
   "metadata": {},
   "source": [
    "Least Recently Used cache.   \n",
    "\n",
    "Get: get the value of the given key in the list, if not found, return -1.  \n",
    "\n",
    "Put: Updata the key if exist;   \n",
    "if not exist, add the key-value pair into the list;  \n",
    "if size of the list exceed the capacity, evict the least use key-value pair.  \n",
    "  \n",
    "Both Get and Put function should run in O(n). \n",
    "\n"
   ]
  },
  {
   "cell_type": "code",
   "execution_count": 8,
   "metadata": {},
   "outputs": [
    {
     "data": {
      "text/plain": [
       "4"
      ]
     },
     "execution_count": 8,
     "metadata": {},
     "output_type": "execute_result"
    }
   ],
   "source": [
    "class Node:\n",
    "    __slots__ = \"pre\", \"next\", \"key\", \"value\"\n",
    "\n",
    "    def __init__(self, key=0, value=0) -> None:\n",
    "        \n",
    "        self.key = key\n",
    "        self.value = value\n",
    "        self.next = None\n",
    "        self.pre = None\n",
    "\n",
    "\n",
    "class LRUCache():\n",
    "    def __init__(self, capacity) -> None:\n",
    "        self.d = dict()\n",
    "        self.dummy = Node()\n",
    "        self.dummy.next = self.dummy\n",
    "        self.dummy.pre = self.dummy\n",
    "        self.capacity = capacity\n",
    "\n",
    "    def get(self, key):\n",
    "        if key in self.d:  # get the value from the list\n",
    "            node = self._move2front(key)  # move the node to the front\n",
    "            return node.value\n",
    "        else:\n",
    "            return -1\n",
    "\n",
    "    def put(self, key, value):\n",
    "        if key in self.d:  # key already exists, then update the value\n",
    "            # move it after the dummy\n",
    "            node = self._move2front(key)\n",
    "            node.value = value  # update the value\n",
    "\n",
    "        else:  # the key not exists,\n",
    "            node = Node(key, value)  # create a new node\n",
    "\n",
    "            # add the key-value pair to the dict\n",
    "            self.d[key] = node\n",
    "\n",
    "            # link it after the dummy\n",
    "            self._link_after_dummy(node)\n",
    "\n",
    "            self._check_capacity()\n",
    "\n",
    "    def _move2front(self, key):\n",
    "        node = self.d[key]  # get the node\n",
    "\n",
    "        pre_node = node.pre  # pointers for pre and next\n",
    "        next_node = node.next\n",
    "\n",
    "        # remove the node from the list\n",
    "        pre_node.next = next_node\n",
    "        next_node.pre = pre_node\n",
    "\n",
    "        self._link_after_dummy(node)\n",
    "\n",
    "        return node\n",
    "\n",
    "    def _link_after_dummy(self, node):\n",
    "        dummy_next = self.dummy.next\n",
    "        dummy_next.pre = node\n",
    "        node.next = dummy_next\n",
    "        self.dummy.next = node\n",
    "        node.pre = self.dummy\n",
    "\n",
    "    def _check_capacity(self):\n",
    "        # check if out of capacity\n",
    "        if len(self.d) > self.capacity:\n",
    "            last_node = self.dummy.pre\n",
    "            pre_last = last_node.pre\n",
    "\n",
    "            # remove this node from the list\n",
    "            pre_last.next = self.dummy\n",
    "            self.dummy.pre = pre_last\n",
    "\n",
    "            # remove this key-value pair from the dict\n",
    "            key = last_node.key\n",
    "            del self.d[key]\n",
    "\n",
    "\n",
    "lru_cache = LRUCache(2)\n",
    "lru_cache.put(1, 1)\n",
    "lru_cache.put(2, 2)\n",
    "lru_cache.get(1)\n",
    "lru_cache.put(3, 3)\n",
    "lru_cache.get(2)\n",
    "lru_cache.put(4, 4)\n",
    "lru_cache.get(1)\n",
    "lru_cache.get(3)\n",
    "lru_cache.get(4)"
   ]
  },
  {
   "cell_type": "markdown",
   "metadata": {},
   "source": [
    "# 460. LFU Cache"
   ]
  },
  {
   "cell_type": "code",
   "execution_count": null,
   "metadata": {},
   "outputs": [],
   "source": []
  },
  {
   "cell_type": "code",
   "execution_count": null,
   "metadata": {},
   "outputs": [],
   "source": []
  }
 ],
 "metadata": {
  "kernelspec": {
   "display_name": "Python 3",
   "language": "python",
   "name": "python3"
  },
  "language_info": {
   "codemirror_mode": {
    "name": "ipython",
    "version": 3
   },
   "file_extension": ".py",
   "mimetype": "text/x-python",
   "name": "python",
   "nbconvert_exporter": "python",
   "pygments_lexer": "ipython3",
   "version": "3.10.12"
  }
 },
 "nbformat": 4,
 "nbformat_minor": 2
}
