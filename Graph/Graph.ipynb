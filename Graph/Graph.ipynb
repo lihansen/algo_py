{
 "cells": [
  {
   "cell_type": "markdown",
   "metadata": {},
   "source": [
    "# Graph"
   ]
  },
  {
   "cell_type": "markdown",
   "metadata": {},
   "source": [
    "- DFS\n",
    "- BFS\n",
    "- Topological sort  \n",
    "- Shortest Path  \n",
    "- Minimum spanning tree"
   ]
  }
 ],
 "metadata": {
  "language_info": {
   "name": "python"
  }
 },
 "nbformat": 4,
 "nbformat_minor": 2
}
