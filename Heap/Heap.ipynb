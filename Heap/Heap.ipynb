{
 "cells": [
  {
   "cell_type": "markdown",
   "metadata": {},
   "source": [
    "# Heap"
   ]
  },
  {
   "cell_type": "markdown",
   "metadata": {},
   "source": [
    "Basics:  \n",
    "```\n",
    "father = i\n",
    "left = 2 * i + 1\n",
    "right = 2 * i + 2\n",
    "\n",
    "son = j\n",
    "father = (j - 1) // 2\n",
    "\n",
    "non_leaf_nodes = [0, n // 2]\n",
    "leaf_nodes = [n // 2 + 1, n]\n",
    "\n",
    "```"
   ]
  },
  {
   "cell_type": "markdown",
   "metadata": {},
   "source": [
    "## 1. Implementation "
   ]
  },
  {
   "cell_type": "markdown",
   "metadata": {},
   "source": []
  },
  {
   "cell_type": "code",
   "execution_count": null,
   "metadata": {},
   "outputs": [],
   "source": [
    "class Heap():\n",
    "    def __init__(self) -> None:\n",
    "        self.heap = []\n",
    "\n",
    "    def heapify(self):\n",
    "        n = len(self.heap)\n",
    "        ends = n // 2 - 1 # ends stands for the last parent node\n",
    "        for i in range(ends, -1, -1): # from the end to zero\n",
    "            self.sift_down(i)\n",
    "\n",
    "    def sift_down(self, i):"
   ]
  }
 ],
 "metadata": {
  "kernelspec": {
   "display_name": "Python 3",
   "language": "python",
   "name": "python3"
  },
  "language_info": {
   "name": "python",
   "version": "3.10.12"
  }
 },
 "nbformat": 4,
 "nbformat_minor": 2
}
