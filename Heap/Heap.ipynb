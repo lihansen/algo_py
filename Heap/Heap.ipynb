{
 "cells": [
  {
   "cell_type": "markdown",
   "metadata": {},
   "source": [
    "# Heap"
   ]
  },
  {
   "cell_type": "markdown",
   "metadata": {},
   "source": [
    "Basics:  \n",
    "```\n",
    "father = i\n",
    "left = 2 * i + 1\n",
    "right = 2 * i + 2\n",
    "\n",
    "son = j\n",
    "father = (j - 1) // 2\n",
    "\n",
    "non_leaf_nodes = [0, n // 2]\n",
    "leaf_nodes = [n // 2 + 1, n]\n",
    "\n",
    "```"
   ]
  },
  {
   "cell_type": "markdown",
   "metadata": {},
   "source": [
    "## 1. Implementation "
   ]
  },
  {
   "cell_type": "markdown",
   "metadata": {},
   "source": []
  },
  {
   "cell_type": "code",
   "execution_count": 6,
   "metadata": {},
   "outputs": [
    {
     "ename": "SyntaxError",
     "evalue": "incomplete input (3117071570.py, line 4)",
     "output_type": "error",
     "traceback": [
      "\u001b[0;36m  Cell \u001b[0;32mIn[6], line 4\u001b[0;36m\u001b[0m\n\u001b[0;31m    def right_child(root):\u001b[0m\n\u001b[0m                          ^\u001b[0m\n\u001b[0;31mSyntaxError\u001b[0m\u001b[0;31m:\u001b[0m incomplete input\n"
     ]
    }
   ],
   "source": [
    "def left_child(root):\n",
    "    return root * 2 + 1\n",
    "\n",
    "def right_child(root):\n",
    "    return root * 2 + 2\n",
    "\n",
    "def get_father(i):\n",
    "    return (i - 1) // 2\n",
    "\n",
    "def sift_up(heap, i):\n",
    "    assert type(heap) == list\n",
    "    \n",
    "    n = len(heap)\n",
    "    # init father and child \n",
    "    father = i\n",
    "    child = left_child(i)\n",
    "\n",
    "    while father < n:\n",
    "        # find the smaller child, min_heap\n",
    "        if child + 1 < n and heap[child + 1] < heap[child]:\n",
    "            child += 1 # use right child \n",
    "\n",
    "        # compare between father and smaller child \n",
    "        if heap[father] > heap[child]:\n",
    "            # swap them\n",
    "            heap[father], heap[child] = heap[child], heap[father]\n",
    "\n",
    "            # iter\n",
    "            father = child \n",
    "            child = left_child(father)\n",
    "\n",
    "\n",
    "        "
   ]
  },
  {
   "cell_type": "code",
   "execution_count": 12,
   "metadata": {},
   "outputs": [
    {
     "name": "stdout",
     "output_type": "stream",
     "text": [
      "[3, 4, 5, 1]\n",
      "[1, 3, 5, 4]\n"
     ]
    }
   ],
   "source": [
    "\n",
    "class Heap(): # min heap by default \n",
    "    def __init__(self, heap, min_heap=True) -> None:\n",
    "        assert type(heap) == list\n",
    "        self.heap = heap\n",
    "\n",
    "    def father(self, i):\n",
    "        return (i - 1) // 2\n",
    "    \n",
    "    def left_child(self, i):\n",
    "        return 2 * i + 1\n",
    "    \n",
    "    def right_child(self, i):\n",
    "        return 2 * i + 2\n",
    "    \n",
    "    def sift_up(self, i):\n",
    "        \n",
    "        n = len(self.heap)\n",
    "        father = i\n",
    "        child = self.left_child(i)\n",
    "        \n",
    "        while father < n:\n",
    "            # let child be the larger child between left and right\n",
    "            if child + 1 < n and self.heap[child] > self.heap[child + 1]:\n",
    "                child += 1\n",
    "\n",
    "            # smaller child sift up\n",
    "            if self.heap[child] < self.heap[father]:\n",
    "                # swap them, and the smaller child goes up\n",
    "                self.heap[father], self.heap[child] = self.heap[child], self.heap[father]\n",
    "                # iter father and child \n",
    "                # father = self.father(father) # let the upper node be the father \n",
    "                # child = self.left_child(father) # \n",
    "                father = child \n",
    "\n",
    "            # not smaller than the father, stop sifting \n",
    "            else:\n",
    "                break\n",
    "                \n",
    "    def heapify(self):\n",
    "        n = len(self.heap)\n",
    "        last_non_leaf = n // 2 - 1 # the last non-leaf node \n",
    "\n",
    "        for i in range(last_non_leaf, -1, -1): # sift down for any non leaf nodes \n",
    "            self.sift_up(i)\n",
    "\n",
    "    # def heappop(self):\n",
    "    #     self.heap = \n",
    "            \n",
    "h = Heap([3,4,5,1])\n",
    "\n",
    "print(h.heap)\n",
    "h.heapify()\n",
    "print(h.heap)"
   ]
  },
  {
   "cell_type": "code",
   "execution_count": 5,
   "metadata": {},
   "outputs": [
    {
     "name": "stdout",
     "output_type": "stream",
     "text": [
      "[2, 2, 3, 5, 4]\n",
      "[2, 4, 3, 5]\n"
     ]
    }
   ],
   "source": [
    "import heapq\n",
    "\n",
    "h = [4,2,3,5,2]\n",
    "heapq.heapify(h)\n",
    "print(h)\n",
    "heapq.heappop(h)\n",
    "print(h)"
   ]
  }
 ],
 "metadata": {
  "kernelspec": {
   "display_name": "Python 3",
   "language": "python",
   "name": "python3"
  },
  "language_info": {
   "codemirror_mode": {
    "name": "ipython",
    "version": 3
   },
   "file_extension": ".py",
   "mimetype": "text/x-python",
   "name": "python",
   "nbconvert_exporter": "python",
   "pygments_lexer": "ipython3",
   "version": "3.10.12"
  }
 },
 "nbformat": 4,
 "nbformat_minor": 2
}
