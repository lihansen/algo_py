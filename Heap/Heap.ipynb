{
 "cells": [
  {
   "cell_type": "markdown",
   "metadata": {},
   "source": [
    "# Heap"
   ]
  },
  {
   "cell_type": "markdown",
   "metadata": {},
   "source": [
    "Basics:  \n",
    "```\n",
    "father = i\n",
    "left = 2 * i + 1\n",
    "right = 2 * i + 2\n",
    "\n",
    "son = j\n",
    "father = (j - 1) // 2\n",
    "\n",
    "non_leaf_nodes = [0, n // 2]\n",
    "leaf_nodes = [n // 2 + 1, n]\n",
    "\n",
    "```"
   ]
  },
  {
   "cell_type": "markdown",
   "metadata": {},
   "source": [
    "## 1. Implementation "
   ]
  },
  {
   "cell_type": "markdown",
   "metadata": {},
   "source": []
  },
  {
   "cell_type": "markdown",
   "metadata": {},
   "source": []
  },
  {
   "cell_type": "code",
   "execution_count": null,
   "metadata": {},
   "outputs": [],
   "source": [
    "class Heap(): # min heap by default \n",
    "    def __init__(self) -> None:\n",
    "        self.heap = []\n",
    "\n",
    "    def father(self, i):\n",
    "        return (i - 1) // 2\n",
    "    \n",
    "    def left_child(self, i):\n",
    "        return 2 * i + 1\n",
    "    \n",
    "    def right_child(self, i):\n",
    "        return 2 * i + 2\n",
    "    \n",
    "    def sift_up(self, i):\n",
    "        \n",
    "        n = len(self.heap)\n",
    "        father = i\n",
    "        \n",
    "        while father < n:\n",
    "            left_child = self.left_child(i)\n",
    "            right_child = self.right_child(i)\n",
    "            \n",
    "            if right_child < n and \n",
    "\n",
    "    def heapify(self):\n",
    "        n = len(self.heap)\n",
    "        last_non_leaf = n // 2 - 1 # the last non-leaf node \n",
    "\n",
    "        for i in range(last_non_leaf, -1, -1): # sift down for any non leaf nodes \n",
    "            self.sift_up(i)\n",
    "\n",
    "    def heappop(self):\n",
    "        heap"
   ]
  }
 ],
 "metadata": {
  "kernelspec": {
   "display_name": "Python 3",
   "language": "python",
   "name": "python3"
  },
  "language_info": {
   "name": "python",
   "version": "3.10.12"
  }
 },
 "nbformat": 4,
 "nbformat_minor": 2
}
